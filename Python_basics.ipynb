{
  "nbformat": 4,
  "nbformat_minor": 0,
  "metadata": {
    "colab": {
      "provenance": []
    },
    "kernelspec": {
      "name": "python3",
      "display_name": "Python 3"
    },
    "language_info": {
      "name": "python"
    }
  },
  "cells": [
    {
      "cell_type": "markdown",
      "source": [
        "# Python Basics\n",
        "\n"
      ],
      "metadata": {
        "id": "uMS_msdbGwLs"
      }
    },
    {
      "cell_type": "markdown",
      "source": [
        "1. What is Python, and why is it popular ?\n",
        "\n",
        "Ans-> Python is a high-level, interpreted programming language known for\n",
        "its simple syntax and readability.\n",
        "\n",
        "**Popular because:**\n",
        "Easy to learn and use,\n",
        "Large community and library support,\n",
        "Used in web development, data science, AI, automation, etc.\n",
        "\n",
        "2. What is an interpreter in Python ?\n",
        "\n",
        "Ans-> An interpreter is a program that reads and executes Python code line by line instead of compiling it all at once.\n",
        "\n",
        "3.What are pre-defined keywords in Python?\n",
        "\n",
        "Ans.-> Keywords are reserved words in Python with special meanings (e.g., if, else, for, True, False).\n",
        "\n",
        "They are used to define the syntax and structure of the language.\n",
        "\n",
        "4. Can keywords be used as variable names?\n",
        "\n",
        "Ans-> No, keywords cannot be used as variable names. Python will throw an error.\n",
        "5. What is mutability in Python?\n",
        "\n",
        "Ans-> Mutability refers to whether an object can be changed after it's created.\n",
        "\n",
        "Mutable: can be changed (e.g., list)\n",
        "Immutable: cannot be changed (e.g., tuple, string)\n",
        "\n",
        "6.Why are lists mutable, but tuples are immutable?\n",
        "\n",
        "Ans-> Lists are designed to be flexible — elements can be added, removed, or changed.\n",
        "\n",
        "String are meant to be constant — used when you don’t want data to change.\n",
        "\n",
        "7.What is the difference between “==” and “is” operators in Python?\n",
        "\n",
        "Ans-> . == checks if values are equal\n",
        "\n",
        "    . is checks if they are the same object in memory\n",
        "\n",
        "8. What are logical operators in Python?\n",
        "\n",
        "Ans-> Logical operators combine conditional statements:\n",
        "\n",
        "      . and: True if both are true\n",
        "      . or: True if at least one is true\n",
        "      . not: Reverses the condition\n",
        "    \n",
        "9.What is type casting in Python?\n",
        "\n",
        "Ans-> Type casting is converting one data type into another.\n",
        "\n",
        "10.What is the difference between implicit and explicit type casting?\n",
        "\n",
        "Ans-> .Implicit: done automatically by Python\n",
        "       Example: a = 5 + 3.2 → result is float (8.2)\n",
        "\n",
        "      .Explicit: done manually by the programmer\n",
        "       Example: int(\"5\")\n",
        "11.What is the purpose of conditional statements in Python?\n",
        "\n",
        "Ans-> Conditional statements let you execute code based on conditions.\n",
        "Example: if, elif, else\n",
        "They help in decision-making in programs.\n",
        "\n",
        "12.How does the elif statement work?\n",
        "\n",
        "Ans-> elif stands for \"else if\". It checks another condition if the previous if was False.\n",
        "\n",
        "13.What is the difference between for and while loops?\n",
        "\n",
        "Ans-> for loop: used when you know how many times to loop (like through a list)\n",
        "while loop: used when the condition is more important and you don’t know how many times it will run.\n",
        "\n",
        "14.Describe a scenario where a while loop is more suitable than a for loop.\n",
        "\n",
        "Ans-> A while loop is more suitable when you don't know in advance how many times the loop will run. It is ideal for situations where the loop needs to continue based on a condition rather than a fixed number of repetitions. The loop keeps running until that condition becomes false. This is useful for tasks like waiting for user input, monitoring a process, or checking for a specific event to occur."
      ],
      "metadata": {
        "id": "ytYeyNL7HK5J"
      }
    },
    {
      "cell_type": "code",
      "execution_count": 1,
      "metadata": {
        "colab": {
          "base_uri": "https://localhost:8080/"
        },
        "id": "ScwjQZ2lGlbU",
        "outputId": "8d81376a-cb32-4cee-8cf9-f8ea827b19cd"
      },
      "outputs": [
        {
          "output_type": "stream",
          "name": "stdout",
          "text": [
            "hello world\n"
          ]
        }
      ],
      "source": [
        "#1. Write a Python program to print \"Hello, World!\n",
        "print(\"hello world\")"
      ]
    },
    {
      "cell_type": "code",
      "source": [
        "#2.Write a Python program that displays your name and age.\n",
        "name = \"Bhargav garg\"\n",
        "age = 24\n",
        "print(\"Name:\", name)\n",
        "print(\"Age:\", age)"
      ],
      "metadata": {
        "colab": {
          "base_uri": "https://localhost:8080/"
        },
        "id": "Eo2UuOq4QDg5",
        "outputId": "6fa19ab8-91b7-4b42-d829-5ba5f4c0ecf1"
      },
      "execution_count": 3,
      "outputs": [
        {
          "output_type": "stream",
          "name": "stdout",
          "text": [
            "Name: Bhargav garg\n",
            "Age: 24\n"
          ]
        }
      ]
    },
    {
      "cell_type": "code",
      "source": [
        "#3. Write code to print all the pre-defined keywords in Python using the keyword library.\n",
        "import keyword\n",
        "print(\"Python Keywords:\")\n",
        "print(keyword.kwlist)"
      ],
      "metadata": {
        "colab": {
          "base_uri": "https://localhost:8080/"
        },
        "id": "lNIaBCOHQ7rB",
        "outputId": "3a42892a-aa7d-4b64-bdca-94c7f6380d75"
      },
      "execution_count": 4,
      "outputs": [
        {
          "output_type": "stream",
          "name": "stdout",
          "text": [
            "Python Keywords:\n",
            "['False', 'None', 'True', 'and', 'as', 'assert', 'async', 'await', 'break', 'class', 'continue', 'def', 'del', 'elif', 'else', 'except', 'finally', 'for', 'from', 'global', 'if', 'import', 'in', 'is', 'lambda', 'nonlocal', 'not', 'or', 'pass', 'raise', 'return', 'try', 'while', 'with', 'yield']\n"
          ]
        }
      ]
    },
    {
      "cell_type": "code",
      "source": [
        "#4. Write a program that checks if a given word is a Python keyword.\n",
        "import keyword\n",
        "\n",
        "word = input(\"Enter a word: \")\n",
        "if keyword.iskeyword(word):\n",
        "    print(f\"'{word}' is a Python keyword.\")\n",
        "else:\n",
        "    print(f\"'{word}' is not a Python keyword.\")"
      ],
      "metadata": {
        "colab": {
          "base_uri": "https://localhost:8080/"
        },
        "id": "zGStemzZRMU4",
        "outputId": "874b57c4-394d-4f1e-b50f-088401bd321c"
      },
      "execution_count": 7,
      "outputs": [
        {
          "output_type": "stream",
          "name": "stdout",
          "text": [
            "Enter a word: if\n",
            "'if' is a Python keyword.\n"
          ]
        }
      ]
    },
    {
      "cell_type": "code",
      "source": [
        "#5 Create a list and tuple in Python, and demonstrate how attempting to change an element works differently\n",
        "#for each.\n",
        "my_list = [1, 2, 3, 4, 5]\n",
        "my_tuple = (1, 2, 3, 4, 5)"
      ],
      "metadata": {
        "id": "rCP28BooRo-T"
      },
      "execution_count": 21,
      "outputs": []
    },
    {
      "cell_type": "code",
      "source": [
        "#6Write a function to demonstrate the behavior of mutable and immutable arguments.\n",
        "def change_data(num, mylist):\n",
        "    num += 10            # Immutable change (int)\n",
        "    mylist.append(4)     # Mutable change (list)"
      ],
      "metadata": {
        "id": "QhcuWv1PRpmH"
      },
      "execution_count": 19,
      "outputs": []
    },
    {
      "cell_type": "code",
      "source": [
        "#7 Write a function to demonstrate the behavior of mutable and immutable arguments.\n",
        "def change_data(num, mylist):\n",
        "    num += 10            # Immutable change (int)\n",
        "    mylist.append(4)     # Mutable change (list)\n",
        "    print(\"Inside function - num:\", num)\n",
        "    print(\"Inside function - mylist:\", mylist)\n",
        "\n",
        "a = 5\n",
        "b = [1, 2, 3]\n",
        "change_data(a, b)\n",
        "\n",
        "print(\"Outside function - num:\", a)\n",
        "print(\"Outside function - mylist:\", b)\n"
      ],
      "metadata": {
        "colab": {
          "base_uri": "https://localhost:8080/"
        },
        "id": "UQwZBJDHRqUe",
        "outputId": "40ca9511-20b5-46f6-84ca-62a43cd7abb8"
      },
      "execution_count": 18,
      "outputs": [
        {
          "output_type": "stream",
          "name": "stdout",
          "text": [
            "Inside function - num: 15\n",
            "Inside function - mylist: [1, 2, 3, 4]\n",
            "Outside function - num: 5\n",
            "Outside function - mylist: [1, 2, 3, 4]\n"
          ]
        }
      ]
    },
    {
      "cell_type": "code",
      "source": [
        "#8 Write a program to demonstrate the use of logical operators.\n",
        "x = 10\n",
        "y = 5\n",
        "\n",
        "print(x > 5 and y < 10)\n",
        "print(x < 5 or y < 10)\n",
        "print(not(x == y))"
      ],
      "metadata": {
        "colab": {
          "base_uri": "https://localhost:8080/"
        },
        "id": "K9RonGSZRqiG",
        "outputId": "3100d9b7-2a68-4db8-d141-4dcbc498ef81"
      },
      "execution_count": 17,
      "outputs": [
        {
          "output_type": "stream",
          "name": "stdout",
          "text": [
            "True\n",
            "True\n",
            "True\n"
          ]
        }
      ]
    },
    {
      "cell_type": "code",
      "source": [
        "#9Write a Python program to convert user input from string to integer, float, and boolean types.\n",
        "user_input = input(\"Enter a value: \")\n",
        "integer_value = int(user_input)\n",
        "float_value = float(user_input)\n",
        "boolean_value = bool(user_input)"
      ],
      "metadata": {
        "colab": {
          "base_uri": "https://localhost:8080/"
        },
        "id": "mofkFlLNRqux",
        "outputId": "31fb75ad-fa4b-4195-9552-9d91d89e9ed0"
      },
      "execution_count": 16,
      "outputs": [
        {
          "name": "stdout",
          "output_type": "stream",
          "text": [
            "Enter a value: 78\n"
          ]
        }
      ]
    },
    {
      "cell_type": "code",
      "source": [
        "#10  Write code to demonstrate type casting with list elements.\n",
        "my_list = [1, 2, 3, 4, 5]\n",
        "print(\"Original List:\", my_list)"
      ],
      "metadata": {
        "colab": {
          "base_uri": "https://localhost:8080/"
        },
        "id": "STOIQ0R7Rq9Y",
        "outputId": "6bb14c1e-d5b6-4e25-b1a6-dce610687b6a"
      },
      "execution_count": 15,
      "outputs": [
        {
          "output_type": "stream",
          "name": "stdout",
          "text": [
            "Original List: [1, 2, 3, 4, 5]\n"
          ]
        }
      ]
    },
    {
      "cell_type": "code",
      "source": [],
      "metadata": {
        "id": "KqBghPy6Tzvn"
      },
      "execution_count": null,
      "outputs": []
    },
    {
      "cell_type": "code",
      "source": [
        "#11 Write a program that checks if a number is positive, negative, or zero.\n",
        "num = int(input(\"Enter a number: \"))\n",
        "\n",
        "if num > 0:\n",
        "    print(\"Positive\")\n",
        "elif num < 0:\n",
        "    print(\"Negative\")\n",
        "else:\n",
        "    print(\"Zero\")"
      ],
      "metadata": {
        "colab": {
          "base_uri": "https://localhost:8080/"
        },
        "id": "CGWb5fxwRrNP",
        "outputId": "8060c1b9-9a03-41c5-f3b4-1eb8400eb5dc"
      },
      "execution_count": 14,
      "outputs": [
        {
          "output_type": "stream",
          "name": "stdout",
          "text": [
            "Enter a number: 6\n",
            "Positive\n"
          ]
        }
      ]
    },
    {
      "cell_type": "code",
      "source": [
        "#12  Write a for loop to print numbers from 1 to 10 .\n",
        "for i in range(1,11):\n",
        "    print (i)"
      ],
      "metadata": {
        "colab": {
          "base_uri": "https://localhost:8080/"
        },
        "id": "GzxOVARwRrba",
        "outputId": "41e27104-5f5a-4d37-bec6-76ad602c99aa"
      },
      "execution_count": 13,
      "outputs": [
        {
          "output_type": "stream",
          "name": "stdout",
          "text": [
            "1\n",
            "2\n",
            "3\n",
            "4\n",
            "5\n",
            "6\n",
            "7\n",
            "8\n",
            "9\n",
            "10\n"
          ]
        }
      ]
    },
    {
      "cell_type": "code",
      "source": [
        "#13Write a Python program to find the sum of all even numbers between 1 and 50.\n",
        "total = 0\n",
        "for i in range(2, 51, 2):\n",
        "    total += i\n",
        "print(\"Sum of even numbers from 1 to 50:\", total)"
      ],
      "metadata": {
        "colab": {
          "base_uri": "https://localhost:8080/"
        },
        "id": "FcmJYT3aRrqd",
        "outputId": "84e6b407-34da-4a10-ce41-94fae8f2b163"
      },
      "execution_count": 8,
      "outputs": [
        {
          "output_type": "stream",
          "name": "stdout",
          "text": [
            "Sum of even numbers from 1 to 50: 650\n"
          ]
        }
      ]
    },
    {
      "cell_type": "code",
      "source": [
        "#14. Write a program to reverse a string using a while loop .\n",
        "text = input(\"Enter a string: \")\n",
        "reversed_text = \"\"\n",
        "index = len(text) - 1\n",
        "\n",
        "while index >= 0:\n",
        "    reversed_text += text[index]\n",
        "    index -= 1\n",
        "\n",
        "print(\"Reversed string:\", reversed_text)\n"
      ],
      "metadata": {
        "colab": {
          "base_uri": "https://localhost:8080/"
        },
        "id": "BxjSNpM_Rr6H",
        "outputId": "3b4d9079-5ead-4b7f-f5bb-df70aebbd6a8"
      },
      "execution_count": 10,
      "outputs": [
        {
          "output_type": "stream",
          "name": "stdout",
          "text": [
            "Enter a string: ghar\n",
            "Reversed string: rahg\n"
          ]
        }
      ]
    },
    {
      "cell_type": "code",
      "source": [
        "#15Write a Python program to calculate the factorial of a number provided by the user using a while loop .\n",
        "num = int(input(\"Enter a number: \"))\n",
        "fact = 1\n",
        "i = 1\n",
        "\n",
        "while i <= num:\n",
        "    fact *= i\n",
        "    i += 1\n",
        "\n",
        "print(\"Factorial:\", fact)"
      ],
      "metadata": {
        "colab": {
          "base_uri": "https://localhost:8080/"
        },
        "id": "oIg-Z37vRsK8",
        "outputId": "c885a607-1384-4f65-99c9-da41c7433fc7"
      },
      "execution_count": 9,
      "outputs": [
        {
          "output_type": "stream",
          "name": "stdout",
          "text": [
            "Enter a number: 6\n",
            "Factorial: 720\n"
          ]
        }
      ]
    }
  ]
}